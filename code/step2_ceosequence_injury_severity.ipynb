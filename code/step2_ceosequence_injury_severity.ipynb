{
 "cells": [
  {
   "cell_type": "code",
   "execution_count": null,
   "metadata": {
    "executionInfo": {
     "elapsed": 2236,
     "status": "ok",
     "timestamp": 1754970977315,
     "user": {
      "displayName": "Chenzhi Ma",
      "userId": "14313554343012137449"
     },
     "user_tz": 240
    },
    "id": "Iili1lgW4_Yr"
   },
   "outputs": [],
   "source": [
    "import pandas as pd\n",
    "import os\n",
    "import numpy as np\n",
    "from catboost import CatBoostClassifier, Pool,CatBoostRegressor\n",
    "from sklearn.model_selection import train_test_split\n",
    "from sklearn.metrics import accuracy_score,confusion_matrix, classification_report,mean_squared_error,r2_score\n",
    "from sklearn.multioutput import MultiOutputRegressor\n",
    "import sys\n",
    "\n",
    "import matplotlib.pyplot as plt\n",
    "import seaborn as sns\n",
    "import joblib\n",
    "\n",
    "current_path = os.getcwd()\n",
    "root_path = os.path.dirname(current_path)\n",
    "data_path= root_path + '/data/'\n",
    "result_path=root_path+'/results/'\n",
    "\n",
    "\n",
    "\n"
   ]
  },
  {
   "cell_type": "code",
   "execution_count": null,
   "metadata": {
    "executionInfo": {
     "elapsed": 11156,
     "status": "ok",
     "timestamp": 1754970992777,
     "user": {
      "displayName": "Chenzhi Ma",
      "userId": "14313554343012137449"
     },
     "user_tz": 240
    },
    "id": "Fht0l2B046Dp"
   },
   "outputs": [],
   "source": [
    "# import datafrome\n",
    "df=pd.read_pickle(data_path + '/step2_consequence_injury_severity.pkl')\n",
    "df_new2=pd.read_pickle(data_path + '/raw_data_with_city_info.pkl')\n"
   ]
  },
  {
   "cell_type": "code",
   "execution_count": null,
   "metadata": {
    "executionInfo": {
     "elapsed": 854,
     "status": "ok",
     "timestamp": 1754970993627,
     "user": {
      "displayName": "Chenzhi Ma",
      "userId": "14313554343012137449"
     },
     "user_tz": 240
    },
    "id": "y3N4LLTjqCwC"
   },
   "outputs": [],
   "source": [
    "# convert to 2022 value\n",
    "cpi_map={'2012':1,\n",
    "         '2013':1.02,\n",
    "         '2014':1.02,\n",
    "         '2015':1.03,\n",
    "         '2016':1.05,\n",
    "         '2017':1.07,\n",
    "         '2018':1.09,\n",
    "         '2019':1.12,\n",
    "         '2020':1.13,\n",
    "         '2021':1.21,\n",
    "         '2022':1.29\n",
    "}\n",
    "df['median_income_list'] = df.apply(lambda row: row['median_income_list'] / cpi_map.get(row['accident_year'], 1)*1.29, axis=1)\n",
    "df['median_rent_list'] = df.apply(lambda row: row['median_rent_list'] / cpi_map.get(row['accident_year'], 1)*1.29, axis=1)\n"
   ]
  },
  {
   "cell_type": "code",
   "execution_count": null,
   "metadata": {
    "executionInfo": {
     "elapsed": 138,
     "status": "ok",
     "timestamp": 1754970993794,
     "user": {
      "displayName": "Chenzhi Ma",
      "userId": "14313554343012137449"
     },
     "user_tz": 240
    },
    "id": "8EbmmKGkPu4T"
   },
   "outputs": [],
   "source": [
    "# drop fires that are spread from other fires, etc\n",
    "df=df[df['CAUSE_IGN']!='0']\n",
    "df=df[df['HEAT_SOURCE_new']!='6']\n",
    "df=df[df['FACT_IGN1_new']!='7']\n",
    "df=df[df['AREA_ORIG_new']!='8']\n",
    "df=df[df['AREA_ORIG_new']!='9']\n",
    "\n",
    "# remove outliers\n",
    "\n",
    "df = df[(df['last_unit_clear_time'] < 600)&(df['TOT_SQ_FT'] < 50000)].reset_index().drop(columns = ['index'])\n"
   ]
  },
  {
   "cell_type": "code",
   "execution_count": null,
   "metadata": {
    "executionInfo": {
     "elapsed": 29,
     "status": "ok",
     "timestamp": 1754971002595,
     "user": {
      "displayName": "Chenzhi Ma",
      "userId": "14313554343012137449"
     },
     "user_tz": 240
    },
    "id": "-CA9_cn0qW19"
   },
   "outputs": [],
   "source": [
    "# drop featues that are not used\n",
    "columns_drop=['DET_OPERAT','build_time_1939_and_earlier_list','build_time_1940_to_1979_list','total_population_list','SUP_APP', 'EMS_APP', 'OTH_APP','Pct_GRAPI_35_pct_or_more_list',\n",
    "       'Pct_GRAPI_Less_than_15_pct_list','Pct_EDU_Less_than_9th_grade_list',\n",
    "       'SUP_PER', 'EMS_PER', 'OTH_PER','AID']\n",
    "df.drop(columns=columns_drop,inplace=True)"
   ]
  },
  {
   "cell_type": "code",
   "execution_count": null,
   "metadata": {
    "colab": {
     "base_uri": "https://localhost:8080/"
    },
    "executionInfo": {
     "elapsed": 45,
     "status": "ok",
     "timestamp": 1754971006472,
     "user": {
      "displayName": "Chenzhi Ma",
      "userId": "14313554343012137449"
     },
     "user_tz": 240
    },
    "id": "bi6XgI5nHUFl",
    "outputId": "64d63f6c-074a-4c7f-c49a-4fef5e461670"
   },
   "outputs": [],
   "source": [
    "object_columns = df.select_dtypes(include=['object']).columns\n",
    "print(\"Object columns:\")\n",
    "print(object_columns)\n",
    "\n",
    "# Print float columns\n",
    "float_columns = df.select_dtypes(include=['float','int']).columns\n",
    "print(\"Float columns:\")\n",
    "print(float_columns)"
   ]
  },
  {
   "cell_type": "code",
   "execution_count": null,
   "metadata": {
    "executionInfo": {
     "elapsed": 2376,
     "status": "ok",
     "timestamp": 1754971017072,
     "user": {
      "displayName": "Chenzhi Ma",
      "userId": "14313554343012137449"
     },
     "user_tz": 240
    },
    "id": "rly_0wAAqsY0"
   },
   "outputs": [],
   "source": [
    "df_new=df_new2[['INCIDENT_KEY', 'CBSA Code','CBSA Title','State_Abbrs', 'HHS_Region',\n",
    "       'Census_Region', 'Census_Division']]\n",
    "df_filtered=df.merge(df_new,on='INCIDENT_KEY',how='left').copy()"
   ]
  },
  {
   "cell_type": "code",
   "execution_count": null,
   "metadata": {
    "executionInfo": {
     "elapsed": 176,
     "status": "ok",
     "timestamp": 1754971023348,
     "user": {
      "displayName": "Chenzhi Ma",
      "userId": "14313554343012137449"
     },
     "user_tz": 240
    },
    "id": "1I5BS99pTMDC"
   },
   "outputs": [],
   "source": [
    "# drop cities with very few fire events\n",
    "\n",
    "counts = df_filtered.groupby(['CBSA Title']).size().reset_index(name='count')\n",
    "\n",
    "# Keep only those with count >= 2\n",
    "valid_pairs = counts[counts['count'] >= 5][['CBSA Title','count']]\n",
    "\n",
    "# Merge to filter the DataFrame\n",
    "df_filtered = df_filtered.merge(valid_pairs, on=['CBSA Title'])\n",
    "df_filtered.drop(columns=['count'],inplace=True)"
   ]
  },
  {
   "cell_type": "code",
   "execution_count": null,
   "metadata": {
    "colab": {
     "base_uri": "https://localhost:8080/"
    },
    "executionInfo": {
     "elapsed": 11,
     "status": "ok",
     "timestamp": 1751412788790,
     "user": {
      "displayName": "Chenzhi Ma",
      "userId": "14313554343012137449"
     },
     "user_tz": 240
    },
    "id": "K_PRFwZKRKE3",
    "outputId": "e714557b-3863-4d03-b842-9f5a1a2e47c7"
   },
   "outputs": [],
   "source": [
    "df_filtered.columns, df_filtered.shape"
   ]
  },
  {
   "cell_type": "code",
   "execution_count": null,
   "metadata": {
    "colab": {
     "base_uri": "https://localhost:8080/"
    },
    "executionInfo": {
     "elapsed": 1060,
     "status": "ok",
     "timestamp": 1754971033454,
     "user": {
      "displayName": "Chenzhi Ma",
      "userId": "14313554343012137449"
     },
     "user_tz": 240
    },
    "id": "Hi31gZ7r5Fd4",
    "outputId": "0fa24e6c-f2a2-40d1-e89b-3169c664b583"
   },
   "outputs": [],
   "source": [
    "# category prediction\n",
    "\n",
    "df_label = df_filtered.copy()\n",
    "#vsl_proportion = [x * 1000 for x in [0.003, 0.047, 0.105, 0.266, 1]]\n",
    "vsl_proportion = [x * 1000 for x in [0.003, 0.047, 0.266, 0.593, 1]]\n",
    "\n",
    "\n",
    "#vsl_proportion = [1,4,9,16,25]\n",
    "\n",
    "\n",
    "# Multiply each column by its corresponding value in vsl_proportion\n",
    "df_label['vsl_proportion'] = (\n",
    "    df_label['SEV_1'] * vsl_proportion[0] +\n",
    "    df_label['SEV_2'] * vsl_proportion[1] +\n",
    "    df_label['SEV_3'] * vsl_proportion[2] +\n",
    "    df_label['SEV_4'] * vsl_proportion[3] +\n",
    "    df_label['SEV_5'] * vsl_proportion[4]\n",
    ")\n",
    "\n",
    "\n",
    "bins = [0, 6,  593,float('inf')]\n",
    "\n",
    "labels = ['0', '1', '2']\n",
    "\n",
    "# Assign risk groups based on the thresholds\n",
    "df_label['Risk_Group'] = pd.cut(df_label['vsl_proportion'], bins=bins, labels=labels, include_lowest=True)\n",
    "\n",
    "X = df_label.drop(columns=['SEV_1', 'SEV_2', 'SEV_3', 'SEV_4', 'SEV_5', 'vsl_proportion','FIRE_SPRD','Risk_Group','last_unit_clear_time',\n",
    "                          'CBSA Title', 'State_Abbrs', 'HHS_Region',\n",
    "        'Census_Region', 'Census_Division'])\n",
    "y = df_label['Risk_Group']\n",
    "\n",
    "\n",
    "X_train_list, X_test_list = [], []\n",
    "y_train_list, y_test_list = [],[]\n",
    "\n",
    "# Loop over each region\n",
    "for region_name, group_df in X.groupby('CBSA Code'):\n",
    "    y_group = y[group_df.index]  # align y with current group\n",
    "\n",
    "    # Stratify on y within the group\n",
    "    X_train_group, X_test_group, y_train_group, y_test_group = train_test_split(\n",
    "        group_df, y_group, test_size=0.3, random_state=2042\n",
    "    )\n",
    "\n",
    "    # Collect the splits\n",
    "    X_train_list.append(X_train_group)\n",
    "    X_test_list.append(X_test_group)\n",
    "    y_train_list.append(y_train_group)\n",
    "    y_test_list.append(y_test_group)\n",
    "\n",
    "# Concatenate all regions\n",
    "X_train = pd.concat(X_train_list)\n",
    "X_test = pd.concat(X_test_list)\n",
    "y_train = pd.concat(y_train_list)\n",
    "y_test = pd.concat(y_test_list)\n",
    "\n",
    "X_train.drop(columns=['CBSA Code'], inplace=True)\n",
    "X_test.drop(columns=['CBSA Code'], inplace=True)\n",
    "\n",
    "\n",
    "categorical_features = [col for col in X_test.columns if X_test[col].dtype == 'object']\n",
    "\n",
    "\n",
    "train_data = Pool(data=X_train, label=y_train, cat_features=categorical_features)\n",
    "test_data = Pool(data=X_test, label=y_test, cat_features=categorical_features)\n",
    "\n"
   ]
  },
  {
   "cell_type": "code",
   "execution_count": null,
   "metadata": {
    "colab": {
     "base_uri": "https://localhost:8080/",
     "height": 210
    },
    "executionInfo": {
     "elapsed": 14,
     "status": "ok",
     "timestamp": 1754971035278,
     "user": {
      "displayName": "Chenzhi Ma",
      "userId": "14313554343012137449"
     },
     "user_tz": 240
    },
    "id": "PPZ_4tcK5KJd",
    "outputId": "d1fd4661-0e4d-4c6e-de9c-03d0e5a8ecd0"
   },
   "outputs": [],
   "source": [
    "y_train.value_counts(normalize=True)"
   ]
  },
  {
   "cell_type": "code",
   "execution_count": null,
   "metadata": {
    "colab": {
     "base_uri": "https://localhost:8080/"
    },
    "executionInfo": {
     "elapsed": 31912,
     "status": "ok",
     "timestamp": 1754971070343,
     "user": {
      "displayName": "Chenzhi Ma",
      "userId": "14313554343012137449"
     },
     "user_tz": 240
    },
    "id": "8ny-xUONUfwD",
    "outputId": "1032ada1-5339-4204-a4ce-72aa75becd32"
   },
   "outputs": [],
   "source": [
    "# Initialize and train the CatBoost model (now using classification)\n",
    "model = CatBoostClassifier(iterations=1500,\n",
    "                            depth=4,\n",
    "                          learning_rate=0.1,\n",
    "                            l2_leaf_reg=6,\n",
    "                          class_weights=[1,1,1],\n",
    "                          task_type='GPU',\n",
    "                          loss_function='MultiClass',\n",
    "                            random_state=2042)\n",
    "model.fit(train_data, verbose=100)\n",
    "\n",
    "# Make predictions\n",
    "y_pred = model.predict(X_test)\n",
    "\n",
    "# Evaluate the classification performance\n",
    "accuracy = accuracy_score(y_test, y_pred)\n",
    "report = classification_report(y_test, y_pred)\n",
    "\n",
    "print(f'Accuracy: {accuracy:.2f}')\n",
    "print(f'Classification Report:\\n{report}')"
   ]
  },
  {
   "cell_type": "code",
   "execution_count": null,
   "metadata": {
    "colab": {
     "base_uri": "https://localhost:8080/",
     "height": 564
    },
    "executionInfo": {
     "elapsed": 565,
     "status": "ok",
     "timestamp": 1754971070925,
     "user": {
      "displayName": "Chenzhi Ma",
      "userId": "14313554343012137449"
     },
     "user_tz": 240
    },
    "id": "0tDM6iTPUfwD",
    "outputId": "aaacd3f5-1f63-44d6-883a-96ef47c8ccdf"
   },
   "outputs": [],
   "source": [
    "cm = confusion_matrix(y_test, y_pred)\n",
    "\n",
    "# Normalize the confusion matrix to 0-1 scale\n",
    "cm_normalized = cm.astype('float') / cm.sum(axis=1)[:, np.newaxis]\n",
    "\n",
    "# Define the new labels\n",
    "labels = ['Low Risk', 'Moderate Risk', 'High Risk']\n",
    "\n",
    "# Plot the confusion matrix with a normalized color bar (0-1)\n",
    "plt.figure(figsize=(8, 6))\n",
    "sns.heatmap(cm_normalized, annot=True, fmt='.2f', cmap='Blues', xticklabels=labels, yticklabels=labels, vmin=0, vmax=1)\n",
    "plt.xlabel('Predicted')\n",
    "plt.ylabel('Actual')\n",
    "plt.title('Confusion Matrix for Injury')\n",
    "#plt.colorbar(label='Proportion')\n",
    "plt.show()\n",
    "\n"
   ]
  },
  {
   "cell_type": "code",
   "execution_count": null,
   "metadata": {
    "colab": {
     "base_uri": "https://localhost:8080/"
    },
    "executionInfo": {
     "elapsed": 6460,
     "status": "ok",
     "timestamp": 1754971077389,
     "user": {
      "displayName": "Chenzhi Ma",
      "userId": "14313554343012137449"
     },
     "user_tz": 240
    },
    "id": "A2t950jQUfwE",
    "outputId": "4b2cdfab-5946-4eae-efbc-071b42bfe9dc"
   },
   "outputs": [],
   "source": [
    "import shap\n",
    "\n"
   ]
  },
  {
   "cell_type": "code",
   "execution_count": null,
   "metadata": {
    "colab": {
     "base_uri": "https://localhost:8080/",
     "height": 957
    },
    "executionInfo": {
     "elapsed": 7279,
     "status": "ok",
     "timestamp": 1754971084670,
     "user": {
      "displayName": "Chenzhi Ma",
      "userId": "14313554343012137449"
     },
     "user_tz": 240
    },
    "id": "HXcP0YuniwwE",
    "outputId": "c88e5c53-a69f-4081-ccc8-98d76ff030f7"
   },
   "outputs": [],
   "source": [
    "explainer = shap.TreeExplainer(model)\n",
    "shap_values = explainer.shap_values(X_test)\n",
    "shap.summary_plot(shap_values[:,:,0], X_test,plot_type='bar')"
   ]
  },
  {
   "cell_type": "code",
   "execution_count": null,
   "metadata": {
    "colab": {
     "base_uri": "https://localhost:8080/"
    },
    "executionInfo": {
     "elapsed": 740,
     "status": "ok",
     "timestamp": 1751412907731,
     "user": {
      "displayName": "Chenzhi Ma",
      "userId": "14313554343012137449"
     },
     "user_tz": 240
    },
    "id": "R1a6ZtH6HnNN",
    "outputId": "ef9388d6-5e90-4edd-eb79-626866c55f26"
   },
   "outputs": [],
   "source": [
    "joblib.dump(model, os.path.join(result_path, 'model_cont_inj_cat_best_gpu_city_v1.pkl'))\n",
    "X_test.to_pickle(os.path.join(result_path, 'X_test_inj_cat_best_gpu_city_v1.pkl'))\n",
    "y_test.to_pickle(os.path.join(result_path, 'y_test_inj_cat_best_gpu_city_v1.pkl'))\n",
    "X_train.to_pickle(os.path.join(result_path, 'x_train_inj_cat_best_gpu_city_v1.pkl'))\n",
    "y_train.to_pickle(os.path.join(result_path, 'y_train_inj_cat_best_gpu_city_v1.pkl'))\n",
    "\n",
    "joblib.dump(shap_values, os.path.join(result_path, 'shap_values_inj_cat_best_gpu_city_v1.pkl'))\n",
    "probs = model.predict_proba(X_test)\n",
    "joblib.dump(probs, os.path.join(result_path, 'y_prob_inj_cat_best_gpu_city_v1.pkl'))\n",
    "\n",
    "## mark: in V7, i deleted all the fires that are too small (det_operate=1) or implies that fire is ignited by other fire df=df[df['CAUSE_IGN']!='0'],df.drop(columns=['DET_OPERAT'],inplace=True),df=df[df['HEAT_SOURCE_new']!='8']\n"
   ]
  }
 ],
 "metadata": {
  "accelerator": "GPU",
  "colab": {
   "gpuType": "T4",
   "provenance": []
  },
  "kernelspec": {
   "display_name": "Python 3",
   "name": "python3"
  },
  "language_info": {
   "codemirror_mode": {
    "name": "ipython",
    "version": 3
   },
   "file_extension": ".py",
   "mimetype": "text/x-python",
   "name": "python",
   "nbconvert_exporter": "python",
   "pygments_lexer": "ipython3",
   "version": "3.11.13"
  }
 },
 "nbformat": 4,
 "nbformat_minor": 0
}
