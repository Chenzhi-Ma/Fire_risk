{
 "cells": [
  {
   "cell_type": "code",
   "execution_count": null,
   "id": "990c1ed6",
   "metadata": {},
   "outputs": [],
   "source": [
    "import os\n",
    "import pandas as pd\n",
    "import matplotlib.pyplot as plt\n",
    "import seaborn as sns\n",
    "import numpy as np\n",
    "from datetime import datetime\n",
    "import re\n",
    "\n",
    "current_path = os.getcwd()\n",
    "root_path = os.path.dirname(current_path)\n",
    "root_path = os.path.dirname(root_path)\n",
    "root_path = '/content/gdrive/Othercomputers/My Computer/Fire_risk_main/Fire_risk_main/data/Fire-data-paper-hongru_share/'\n",
    "data_path= root_path + '/github_repo/data/'\n"
   ]
  },
  {
   "cell_type": "code",
   "execution_count": 28,
   "id": "d44cbd9a",
   "metadata": {},
   "outputs": [],
   "source": [
    "df_new.to_pickle(socio_raw_data + 'df_new_with_outcome.pkl')"
   ]
  },
  {
   "cell_type": "code",
   "execution_count": null,
   "id": "3c35b18d",
   "metadata": {},
   "outputs": [],
   "source": [
    "\n",
    "\n",
    "# df_new['ZIP']= df_new['ZIP5'].str[:5]  # Ensure ZIP is a string of length 5\n",
    "# df_merged = pd.merge(df_new, city_zip_mapping[['ZIP', 'CBSA', 'RES_RATIO']], on='ZIP', how='lef  t')\n",
    "\n",
    "# df_merged=df_merged.drop_duplicates(subset=[ 'ZIP5', 'accident_year','CBSA'])\n",
    "# df_merged.shape\n",
    "# cols_to_convert = ['total_population_list', 'Est_YRB_Built_total_units_list', 'RES_RATIO']\n",
    "# df_merged[cols_to_convert] = df_merged[cols_to_convert].apply(pd.to_numeric, errors='coerce')\n",
    "# df_merged['total_population'] = df_merged['total_population_list'] * df_merged['RES_RATIO']\n",
    "# df_merged['total_households'] = df_merged['Est_YRB_Built_total_units_list'] * df_merged['RES_RATIO']\n",
    "\n",
    "# df_merged_pop = (\n",
    "#     df_merged\n",
    "#     .groupby(['CBSA', 'accident_year'], as_index=False)   # group on both columns\n",
    "#     .agg({\n",
    "#         'total_population': 'sum',\n",
    "#         'total_households': 'sum'\n",
    "#     })\n",
    "# )\n",
    "\n",
    "\n",
    "\n",
    "\n"
   ]
  },
  {
   "cell_type": "code",
   "execution_count": 51,
   "id": "63cd3a23",
   "metadata": {},
   "outputs": [],
   "source": [
    "import pandas as pd\n",
    "\n",
    "# Step 1: Prepare the ZIP-level data\n",
    "df_zip = df_new[['ZIP5', 'total_population_list', 'Est_YRB_Built_total_units_list','accident_year']].copy()\n",
    "df_zip = df_zip.rename(columns={'ZIP5': 'ZIP'})\n",
    "\n",
    "# Ensure numeric types\n",
    "df_zip['total_population_list'] = pd.to_numeric(df_zip['total_population_list'], errors='coerce')\n",
    "df_zip['Est_YRB_Built_total_units_list'] = pd.to_numeric(df_zip['Est_YRB_Built_total_units_list'], errors='coerce')\n",
    "\n",
    "# Step 2: Merge with city-zip mapping\n",
    "merged = pd.merge(df_zip, city_zip_mapping[['ZIP', 'CBSA', 'RES_RATIO']], on='ZIP', how='left')\n",
    "\n",
    "# Apply RES_RATIO to population and units\n",
    "merged['adj_population'] = merged['total_population_list'] * merged['RES_RATIO'].astype(float)\n",
    "merged['adj_units'] = merged['Est_YRB_Built_total_units_list'] * merged['RES_RATIO'].astype(float)\n",
    "\n",
    "\n",
    "# unique zip per CBSA per year\n",
    "unique_zip= merged[['ZIP', 'CBSA','accident_year','adj_population','adj_units']].drop_duplicates()\n",
    "\n",
    "\n",
    "\n",
    "# Step 3: Aggregate to CBSA level, no we get all pop and unit for all considered year\n",
    "cbsa_aggregated = unique_zip.groupby('CBSA', as_index=False).agg({\n",
    "    'adj_population': 'sum',\n",
    "    'adj_units': 'sum'\n",
    "})\n",
    "\n",
    "# average over 11 years\n",
    "cbsa_aggregated['adj_population'] = cbsa_aggregated['adj_population']/11\n",
    "cbsa_aggregated['adj_units'] = cbsa_aggregated['adj_units']/11\n",
    "\n",
    "\n",
    "\n",
    "# Step 4: Count fire events per CBSA\n",
    "# Join CBSA code to each fire event based on ZIP\n",
    "fire_events = pd.merge(df_new[['ZIP5', 'INCIDENT_KEY']], city_zip_mapping[['ZIP', 'CBSA', 'RES_RATIO']], \n",
    "                       left_on='ZIP5', right_on='ZIP', how='left')\n",
    "\n",
    "# Adjust fire events using RES_RATIO to proportionally distribute one event to multiple CBSAs\n",
    "fire_events['weighted_event'] = fire_events['RES_RATIO'].astype(float)\n",
    "\n",
    "# Aggregate fire event count by CBSA\n",
    "cbsa_fire_counts = fire_events.groupby('CBSA', as_index=False).agg({'weighted_event': 'sum'})\n",
    "\n",
    "# Step 5: Merge demographic and fire data\n",
    "cbsa_summary = pd.merge(cbsa_aggregated, cbsa_fire_counts, on='CBSA', how='left')\n",
    "cbsa_summary['weighted_event'] = cbsa_summary['weighted_event'].fillna(0)\n",
    "\n",
    "# Step 6: Compute fire rate per CBSA\n",
    "cbsa_summary['fire_rate_per_100_000_year'] = cbsa_summary['weighted_event']/11 / cbsa_summary['adj_units'] * 100_000\n"
   ]
  },
  {
   "cell_type": "code",
   "execution_count": null,
   "id": "03531d21",
   "metadata": {},
   "outputs": [],
   "source": [
    "cbsa_summary.to_csv(socio_raw_data + '/cbsa_fire_rate_summary.txt', index=False, sep='\\t')\n",
    "\n",
    "cbsa_summary.to_csv(socio_raw_data + '/cbsa_fire_rate_summary.csv', index=False)\n"
   ]
  },
  {
   "cell_type": "code",
   "execution_count": 42,
   "id": "78c5a3c8",
   "metadata": {},
   "outputs": [],
   "source": [
    "cbsa_summary=pd.read_csv(socio_raw_data + '/cbsa_fire_rate_summary.txt', sep='\\t')\n"
   ]
  },
  {
   "cell_type": "code",
   "execution_count": 26,
   "id": "e7583b19",
   "metadata": {},
   "outputs": [
    {
     "data": {
      "text/plain": [
       "'f:\\\\OneDrive - Johns Hopkins\\\\2024_Chenzhi_Du_Fire_risk\\\\Fire_risk_main\\\\data\\\\hongru_share/nature cities/'"
      ]
     },
     "execution_count": 26,
     "metadata": {},
     "output_type": "execute_result"
    }
   ],
   "source": [
    "socio_raw_data"
   ]
  },
  {
   "cell_type": "code",
   "execution_count": 36,
   "id": "2ba7650e",
   "metadata": {},
   "outputs": [
    {
     "data": {
      "text/plain": [
       "Index(['STATE', 'INCIDENT_KEY', 'ZIP5', 'FIRE_SPRD', 'PROP_LOSS', 'PROP_VAL',\n",
       "       'CONT_LOSS', 'CONT_VAL', 'FF_INJ', 'FF_DEATH', 'OTH_INJ', 'OTH_DEATH',\n",
       "       'accident_year', 'accident_month', 'accident_day',\n",
       "       'population_density_list', 'Est_YRB_Built_total_units_list',\n",
       "       'total_loss', 'total_value'],\n",
       "      dtype='object')"
      ]
     },
     "execution_count": 36,
     "metadata": {},
     "output_type": "execute_result"
    }
   ],
   "source": [
    "df_new.columns"
   ]
  },
  {
   "cell_type": "markdown",
   "id": "908285c4",
   "metadata": {},
   "source": [
    "# fire outcomes"
   ]
  },
  {
   "cell_type": "code",
   "execution_count": null,
   "id": "1195fdf0",
   "metadata": {},
   "outputs": [],
   "source": [
    "# df_fs=pd.read_pickle(socio_raw_data + 'consequence/df_fs_github.pkl')\n",
    "# df_inj=pd.read_pickle(socio_raw_data + 'consequence/df_inj_github.pkl')\n",
    "# df_loss=pd.read_pickle(socio_raw_data + 'consequence/df_loss_github.pkl')\n",
    "df_new=pd.read_pickle(socio_raw_data + 'df_new_with_outcome.pkl')"
   ]
  },
  {
   "cell_type": "code",
   "execution_count": 4,
   "id": "792a1403",
   "metadata": {},
   "outputs": [],
   "source": [
    "city_zip_mapping=pd.read_excel(socio_raw_data + '/zip_cbsa_122022.xlsx',dtype=str,sheet_name='ZIP_CBSA_122022')\n",
    "unique_zip =city_zip_mapping[['ZIP', 'CBSA','RES_RATIO']].drop_duplicates()\n",
    "df_new = df_new.merge(unique_zip, left_on=['ZIP5'],right_on=['ZIP'], how='left')\n"
   ]
  },
  {
   "cell_type": "code",
   "execution_count": 5,
   "id": "21196e61",
   "metadata": {},
   "outputs": [],
   "source": [
    "nan_0 = ['PROP_LOSS', 'PROP_VAL', 'CONT_LOSS', 'CONT_VAL','FF_INJ', 'FF_DEATH', 'OTH_INJ', 'OTH_DEATH']\n",
    "df_new[nan_0] = df_new[nan_0].fillna(0)\n",
    "\n",
    "# df_new['total_loss'] = df_new['total_loss'].fillna(0)\n",
    "# df_new['total_value'] = df_new['total_value'].fillna(0)\n",
    "df_new['total_loss'] = df_new['PROP_LOSS'].astype(int) + df_new['CONT_LOSS'].astype(int)\n",
    "df_new['total_value'] = df_new['PROP_VAL'].astype(int) + df_new['CONT_VAL'].astype(int)\n"
   ]
  },
  {
   "cell_type": "code",
   "execution_count": 12,
   "id": "15f88ded",
   "metadata": {},
   "outputs": [
    {
     "data": {
      "text/plain": [
       "np.float64(750772.9999999999)"
      ]
     },
     "execution_count": 12,
     "metadata": {},
     "output_type": "execute_result"
    }
   ],
   "source": [
    "df_loss=df_new.copy()\n",
    "df_loss = df_loss[df_loss['total_loss']>0]\n",
    "threshold = df_loss['total_loss'].quantile(0.99)\n",
    "df_loss = df_loss[df_loss['total_loss'] < threshold]\n",
    "\n",
    "cpi_map={'2012':1,\n",
    "         '2013':1.02,\n",
    "         '2014':1.02,\n",
    "         '2015':1.03,\n",
    "         '2016':1.05,\n",
    "         '2017':1.07,\n",
    "         '2018':1.09,\n",
    "         '2019':1.12,\n",
    "         '2020':1.13,\n",
    "         '2021':1.21,\n",
    "         '2022':1.29\n",
    "}\n",
    "df_loss['total_loss'] = df_loss.apply(lambda row: row['total_loss'] / cpi_map.get(row['accident_year'], 1)*1.29, axis=1)\n",
    "\n",
    "df_loss['total_loss']= df_loss['total_loss'].astype(int)* df_loss['RES_RATIO'].astype(float)\n",
    "\n",
    "df_loss['num_event']=df_loss['RES_RATIO'].astype(float)\n",
    "\n",
    "df_loss_grouped = df_loss.groupby('CBSA').agg({\n",
    "    'num_event': 'sum',\n",
    "    'total_loss': 'sum'\n",
    "}).reset_index()\n",
    "\n",
    "df_loss_grouped['ave_loss_per_event'] = df_loss_grouped['total_loss'] / df_loss_grouped['num_event']\n",
    "df_loss_grouped['num_event'].sum()\n"
   ]
  },
  {
   "cell_type": "code",
   "execution_count": null,
   "id": "33fda919",
   "metadata": {},
   "outputs": [],
   "source": []
  },
  {
   "cell_type": "code",
   "execution_count": 37,
   "id": "cd1591aa",
   "metadata": {},
   "outputs": [],
   "source": [
    "def compute_cbsa_risk_proportion(df_consequence, consequence_type, city_zip_mapping):\n",
    "    # Count number of events in each Risk_Group per ZIP5\n",
    "    zip_risk_counts = df_consequence.groupby(['ZIP5', 'Risk_Group']).size().reset_index(name='count')\n",
    "\n",
    "    # Merge ZIP-level counts with city-ZIP mapping\n",
    "    zip_risk_props = zip_risk_counts.rename(columns={'ZIP5': 'ZIP'})\n",
    "    zip_risk_with_cbsa = pd.merge(zip_risk_props, city_zip_mapping[['ZIP', 'CBSA', 'RES_RATIO']], on='ZIP', how='left')\n",
    "\n",
    "    # Adjust counts using RES_RATIO\n",
    "    zip_risk_with_cbsa['adj_count'] = zip_risk_with_cbsa['count'] * zip_risk_with_cbsa['RES_RATIO'].astype(float)\n",
    "\n",
    "    # Aggregate adjusted count at CBSA-Risk_Group level\n",
    "    cbsa_risk_props = zip_risk_with_cbsa.groupby(['CBSA', 'Risk_Group'])['adj_count'].sum().reset_index()\n",
    "\n",
    "    # Total adjusted count per CBSA\n",
    "    cbsa_total = cbsa_risk_props.groupby('CBSA')['adj_count'].sum().reset_index(name='total_adj_count')\n",
    "\n",
    "    # Merge and compute proportion\n",
    "    df_cbsa_risk = pd.merge(cbsa_risk_props, cbsa_total, on='CBSA')\n",
    "    df_cbsa_risk['risk_proportion'] = df_cbsa_risk['adj_count'] / df_cbsa_risk['total_adj_count']\n",
    "    \n",
    "    # Add consequence type\n",
    "    df_cbsa_risk['consequence_type'] = consequence_type\n",
    "    \n",
    "    return df_cbsa_risk"
   ]
  },
  {
   "cell_type": "code",
   "execution_count": 38,
   "id": "4dfe132b",
   "metadata": {},
   "outputs": [],
   "source": [
    "df_fs=df_new.copy()\n",
    "df_fs = df_fs[df_fs['FIRE_SPRD'].notna()]\n",
    "df_fs['Risk_Group'] = df_fs['FIRE_SPRD']\n",
    "\n",
    "df_fs_grouped = compute_cbsa_risk_proportion(df_fs, 'spread', city_zip_mapping)\n",
    "\n",
    "df_fs_grouped=df_fs_grouped[df_fs_grouped['Risk_Group']=='2']"
   ]
  },
  {
   "cell_type": "code",
   "execution_count": 39,
   "id": "dc7a29d9",
   "metadata": {},
   "outputs": [
    {
     "data": {
      "text/plain": [
       "np.float64(48647.0)"
      ]
     },
     "execution_count": 39,
     "metadata": {},
     "output_type": "execute_result"
    }
   ],
   "source": [
    "inj_specific=pd.read_pickle(socio_raw_data + 'inj_specific.pkl')\n",
    "df_inj=df_new.copy()\n",
    "df_inj=df_inj.merge(inj_specific, on='INCIDENT_KEY', how='inner')\n",
    "vsl_proportion = [x * 1000 for x in [0.003, 0.047, 0.266, 0.593, 1]]\n",
    "\n",
    "df_inj['vsl_proportion'] = (\n",
    "    df_inj['SEV_1'] * vsl_proportion[0] +\n",
    "    df_inj['SEV_2'] * vsl_proportion[1] +\n",
    "    df_inj['SEV_3'] * vsl_proportion[2] +\n",
    "    df_inj['SEV_4'] * vsl_proportion[3] +\n",
    "    df_inj['SEV_5'] * vsl_proportion[4]\n",
    ")\n",
    "\n",
    "df_inj['num_event']=df_inj['RES_RATIO'].astype(float)\n",
    "\n",
    "df_inj_grouped = df_inj.groupby('CBSA').agg({\n",
    "    'num_event': 'sum',\n",
    "    'vsl_proportion': 'sum'\n",
    "}).reset_index()\n",
    "\n",
    "df_inj_grouped['ave_vsl_per_event'] = df_inj_grouped['vsl_proportion'] / df_inj_grouped['num_event']\n",
    "df_inj_grouped['ave_vsl_per_event']=df_inj_grouped['ave_vsl_per_event'].astype(float)\n",
    "df_inj_grouped['num_event'].sum()\n"
   ]
  },
  {
   "cell_type": "code",
   "execution_count": 40,
   "id": "9308bc8c",
   "metadata": {},
   "outputs": [
    {
     "data": {
      "text/plain": [
       "Index(['CBSA', 'num_event', 'vsl_proportion', 'ave_vsl_per_event'], dtype='object')"
      ]
     },
     "execution_count": 40,
     "metadata": {},
     "output_type": "execute_result"
    }
   ],
   "source": [
    "df_inj_grouped.columns"
   ]
  },
  {
   "cell_type": "code",
   "execution_count": 44,
   "id": "0946a415",
   "metadata": {},
   "outputs": [],
   "source": [
    "cbsa_summary['CBSA']=cbsa_summary['CBSA'].astype(str)"
   ]
  },
  {
   "cell_type": "markdown",
   "id": "84a5fb4b",
   "metadata": {},
   "source": [
    "# combine ignition rate and three consequence"
   ]
  },
  {
   "cell_type": "code",
   "execution_count": 45,
   "id": "bc6a41ad",
   "metadata": {},
   "outputs": [],
   "source": [
    "final_fire_matrix=cbsa_summary.merge(df_fs_grouped[['CBSA','risk_proportion',]], on='CBSA', how='left')\n",
    "final_fire_matrix=final_fire_matrix.merge(df_loss_grouped[['CBSA', 'num_event', 'total_loss', 'ave_loss_per_event']], on='CBSA', how='left')\n",
    "final_fire_matrix=final_fire_matrix.merge(df_inj_grouped[['CBSA','num_event', 'vsl_proportion', 'ave_vsl_per_event']], on='CBSA', how='left',suffixes=('_loss','_inj'))\n",
    "final_fire_matrix.rename(columns={'risk_proportion': 'fire_spread_2'}, inplace=True)\n",
    "final_fire_matrix['fs_larger2']=1-final_fire_matrix['fire_spread_2']\n"
   ]
  },
  {
   "cell_type": "code",
   "execution_count": 49,
   "id": "61cef0ee",
   "metadata": {},
   "outputs": [],
   "source": [
    "final_fire_matrix.to_csv(socio_raw_data+'final_fire_matrix.csv',index=False)\n",
    "final_fire_matrix.to_pickle(socio_raw_data+'final_fire_matrix.pkl')"
   ]
  },
  {
   "cell_type": "markdown",
   "id": "fde43392",
   "metadata": {},
   "source": [
    "# calculate ranking\n"
   ]
  },
  {
   "cell_type": "code",
   "execution_count": 46,
   "id": "66514e12",
   "metadata": {},
   "outputs": [],
   "source": [
    "cbsa_county_mapping = pd.read_excel(socio_raw_data + '/list1_2023.xlsx', header=None, dtype=str)\n",
    "\n",
    "# Set column names using the second row\n",
    "cbsa_county_mapping.columns = cbsa_county_mapping.iloc[2]\n",
    "\n",
    "# Drop the first two rows (original header and the new column names row)\n",
    "cbsa_county_mapping = cbsa_county_mapping.drop(index=[0, 1,2]).reset_index(drop=True)\n",
    "\n",
    "cbsa_name= cbsa_county_mapping[['CBSA Code', 'CBSA Title',\n",
    "       'Metropolitan/Micropolitan Statistical Area',]].drop_duplicates()"
   ]
  },
  {
   "cell_type": "code",
   "execution_count": null,
   "id": "ebaa0080",
   "metadata": {},
   "outputs": [],
   "source": [
    "final_fire_matrix=pd.read_pickle(socio_raw_data+'final_fire_matrix.pkl')\n",
    "final_fire_matrix=final_fire_matrix.merge(cbsa_name, left_on='CBSA', right_on='CBSA Code', how='left')\n",
    "final_fire_matrix['rank_pop'] = final_fire_matrix['adj_population'].rank(ascending=False, method='min')\n",
    "final_fire_matrix=final_fire_matrix[final_fire_matrix['rank_pop'] <=300]\n",
    "final_fire_matrix['adj_population'].min()"
   ]
  },
  {
   "cell_type": "code",
   "execution_count": 48,
   "id": "d1230dcd",
   "metadata": {},
   "outputs": [],
   "source": [
    "\n",
    "final_fire_matrix['rank_ign'] = final_fire_matrix['fire_rate_per_100_000_year'].rank(ascending=False, method='min')\n",
    "final_fire_matrix['rank_ave_loss_per_event'] = final_fire_matrix['ave_loss_per_event'].rank(ascending=False, method='min')\n",
    "final_fire_matrix['rank_ave_vsl_per_event'] = final_fire_matrix['ave_vsl_per_event'].rank(ascending=False, method='min')\n",
    "final_fire_matrix['rank_fs_larger2'] = final_fire_matrix['fs_larger2'].rank(ascending=False, method='min')\n",
    "\n"
   ]
  },
  {
   "cell_type": "code",
   "execution_count": 22,
   "id": "8b56c193",
   "metadata": {},
   "outputs": [
    {
     "data": {
      "image/png": "[encoded data removed]",
      "text/plain": [
       "<Figure size 640x480 with 2 Axes>"
      ]
     },
     "metadata": {},
     "output_type": "display_data"
    }
   ],
   "source": [
    "#correlation check\n",
    "rank_cols = ['rank_ave_loss_per_event', 'rank_ave_vsl_per_event', 'rank_fs_larger2','rank_ign','rank_pop']\n",
    "correlation_matrix = final_fire_matrix[rank_cols].corr(method='spearman')\n",
    "\n",
    "sns.heatmap(correlation_matrix, annot=True, cmap='coolwarm')\n",
    "plt.title(\"Spearman Correlation Between Rank Variables\")\n",
    "plt.show()"
   ]
  },
  {
   "cell_type": "code",
   "execution_count": null,
   "id": "c36051d6",
   "metadata": {},
   "outputs": [],
   "source": [
    "# aggregate to CBSA level\n",
    "def aggregate_to_cbsa(df, absolute_features, proportion_features, weather_features):\n",
    "    df = df.copy()\n",
    "    df['total_population'] = df['total_population_list'] * df['RES_RATIO']\n",
    "    df['total_households'] = df['Est_YRB_Built_total_units_list'] * df['RES_RATIO']\n",
    "    cbsa_group = df.groupby(['CBSA', 'accident_year'])\n",
    "\n",
    "    results = []\n",
    "\n",
    "    for (cbsa, year), group in cbsa_group:\n",
    "        result = {'CBSA': cbsa, 'accident_year': year}\n",
    "        for feat in absolute_features:\n",
    "            result[feat] = (group[feat] * group['RES_RATIO']).sum()\n",
    "\n",
    "        for feat in proportion_features:\n",
    "            if feat in building_feature:\n",
    "                base = group['total_households'].sum()\n",
    "                value = (group[feat] * group['total_households']).sum()\n",
    "            else:\n",
    "                base = group['total_population'].sum()\n",
    "                value = (group[feat] * group['total_population']).sum()\n",
    "            result[feat] = value / base if base > 0 else None\n",
    "\n",
    "        # for feat in weather_features:\n",
    "        #     weighted = (group[feat] * group['RES_RATIO']).sum()\n",
    "        #     weight_sum = group['RES_RATIO'].sum()\n",
    "        #     result[feat] = weighted / weight_sum if weight_sum > 0 else None\n",
    "\n",
    "        results.append(result)\n",
    "\n",
    "    return pd.DataFrame(results)"
   ]
  },
  {
   "cell_type": "markdown",
   "id": "432d257a",
   "metadata": {},
   "source": [
    "# old data process"
   ]
  },
  {
   "cell_type": "code",
   "execution_count": 5,
   "id": "0ce35555",
   "metadata": {},
   "outputs": [
    {
     "name": "stdout",
     "output_type": "stream",
     "text": [
      "0.40      6.0\n",
      "0.75    593.0\n",
      "Name: vsl_proportion, dtype: float64\n"
     ]
    }
   ],
   "source": [
    "\n",
    "df_label = df_inj.copy()\n",
    "#vsl_proportion = [x * 1000 for x in [0.003, 0.047, 0.105, 0.266, 1]]\n",
    "vsl_proportion = [x * 1000 for x in [0.003, 0.047, 0.266, 0.593, 1]]\n",
    "\n",
    "\n",
    "#vsl_proportion = [1,4,9,16,25]\n",
    "\n",
    "\n",
    "# Multiply each column by its corresponding value in vsl_proportion\n",
    "df_label['vsl_proportion'] = (\n",
    "    df_label['SEV_1'] * vsl_proportion[0] +\n",
    "    df_label['SEV_2'] * vsl_proportion[1] +\n",
    "    df_label['SEV_3'] * vsl_proportion[2] +\n",
    "    df_label['SEV_4'] * vsl_proportion[3] +\n",
    "    df_label['SEV_5'] * vsl_proportion[4]\n",
    ")\n",
    "\n",
    "#thresholds = df_label['vsl_proportion'].quantile([0.4, 0.6, 0.8])\n",
    "thresholds = df_label['vsl_proportion'].quantile([0.4,0.75])\n",
    "\n",
    "print(thresholds)\n",
    "\n",
    "bins = [0, thresholds[0.4],  thresholds[0.75],float('inf')]\n",
    "\n",
    "#labels = ['Low Risk', 'Moderate Risk', 'High Risk', 'Very High Risk']\n",
    "labels = ['0', '1', '2']\n",
    "# Assign risk groups based on the thresholds\n",
    "df_inj['Risk_Group'] = pd.cut(df_label['vsl_proportion'], bins=bins, labels=labels, include_lowest=True)\n",
    "df_inj['vsl_proportion'] = df_label['vsl_proportion']"
   ]
  },
  {
   "cell_type": "code",
   "execution_count": 6,
   "id": "13b9bb99",
   "metadata": {},
   "outputs": [
    {
     "name": "stdout",
     "output_type": "stream",
     "text": [
      "0.40    10661.157025\n",
      "0.75    67755.140187\n",
      "Name: total_loss, dtype: float64\n"
     ]
    }
   ],
   "source": [
    "thresholds = df_loss['total_loss'].quantile([0.4, 0.75])\n",
    "\n",
    "print(thresholds)\n",
    "#bins = [-float('inf'), thresholds[0.5], thresholds[0.75], thresholds[0.9], float('inf')]\n",
    "bins = [-float('inf'), thresholds[0.4], thresholds[0.75], float('inf')]\n",
    "\n",
    "#labels = ['Low Risk', 'Moderate Risk', 'High Risk', 'Very High Risk']\n",
    "labels = ['0', '1', '2']\n",
    "\n",
    "df_loss['Risk_Group'] = pd.cut(df_loss['total_loss'], bins=bins, labels=labels, include_lowest=True)"
   ]
  },
  {
   "cell_type": "code",
   "execution_count": 54,
   "id": "9df589ac",
   "metadata": {},
   "outputs": [],
   "source": [
    "df_fs=df_fs.merge(df_new[['INCIDENT_KEY','ZIP5','Est_YRB_Built_total_units_list']], on='INCIDENT_KEY', how='left')\n",
    "df_inj=df_inj.merge(df_new[['INCIDENT_KEY','ZIP5','Est_YRB_Built_total_units_list']], on='INCIDENT_KEY', how='left')\n",
    "df_loss=df_loss.merge(df_new[['INCIDENT_KEY','ZIP5','Est_YRB_Built_total_units_list']], on='INCIDENT_KEY', how='left')\n",
    "\n"
   ]
  },
  {
   "cell_type": "code",
   "execution_count": 55,
   "id": "1193806c",
   "metadata": {},
   "outputs": [],
   "source": [
    "df_fs['Risk_Group']=df_fs['FIRE_SPRD'].astype(str)"
   ]
  },
  {
   "cell_type": "code",
   "execution_count": 60,
   "id": "484da9cf",
   "metadata": {},
   "outputs": [],
   "source": [
    "columns_to_copy_consequence=['ZIP5', 'INCIDENT_KEY', 'accident_year', 'Risk_Group','Est_YRB_Built_total_units_list']\n",
    "df_fs_consequence=df_fs[columns_to_copy_consequence].copy()\n",
    "df_inj_consequence=df_inj[columns_to_copy_consequence].copy()\n",
    "df_loss_consequence=df_loss[columns_to_copy_consequence].copy()"
   ]
  },
  {
   "cell_type": "code",
   "execution_count": null,
   "id": "77d80672",
   "metadata": {},
   "outputs": [],
   "source": [
    "# Count number of events in each Risk_Group per ZIP5\n",
    "zip_risk_counts = df_fs_consequence.groupby(['ZIP5', 'Risk_Group']).size().reset_index(name='count')\n",
    "\n",
    "# Total events per ZIP5\n",
    "\n",
    "# Merge to get CBSA and RES_RATIO\n",
    "zip_risk_props = zip_risk_counts.rename(columns={'ZIP5': 'ZIP'})\n",
    "zip_risk_with_cbsa = pd.merge(zip_risk_props, city_zip_mapping[['ZIP', 'CBSA', 'RES_RATIO']], on='ZIP', how='left')\n",
    "\n",
    "# Adjust the risk group proportion based on RES_RATIO\n",
    "zip_risk_with_cbsa['adj_count'] = zip_risk_with_cbsa['count'] * zip_risk_with_cbsa['RES_RATIO'].astype(float)\n",
    "\n",
    "# Group by CBSA and Risk_Group\n",
    "cbsa_risk_props = zip_risk_with_cbsa.groupby(['CBSA', 'Risk_Group'])['adj_count'].sum().reset_index()\n",
    "\n",
    "# Step 1: Calculate total adjusted count per CBSA\n",
    "cbsa_total = cbsa_risk_props.groupby('CBSA')['adj_count'].sum().reset_index(name='total_adj_count')\n",
    "\n",
    "# Step 2: Merge with original data to get proportion\n",
    "df_cbsa_risk = pd.merge(cbsa_risk_props, cbsa_total, on='CBSA')\n",
    "df_cbsa_risk['risk_proportion'] = df_cbsa_risk['adj_count'] / df_cbsa_risk['total_adj_count']\n",
    "\n"
   ]
  },
  {
   "cell_type": "code",
   "execution_count": 73,
   "id": "f7d7e742",
   "metadata": {},
   "outputs": [
    {
     "name": "stderr",
     "output_type": "stream",
     "text": [
      "C:\\Users\\Malcolm\\AppData\\Local\\Temp\\ipykernel_16572\\2510543554.py:3: FutureWarning: The default of observed=False is deprecated and will be changed to True in a future version of pandas. Pass observed=False to retain current behavior or observed=True to adopt the future default and silence this warning.\n",
      "  zip_risk_counts = df_consequence.groupby(['ZIP5', 'Risk_Group']).size().reset_index(name='count')\n",
      "C:\\Users\\Malcolm\\AppData\\Local\\Temp\\ipykernel_16572\\2510543554.py:13: FutureWarning: The default of observed=False is deprecated and will be changed to True in a future version of pandas. Pass observed=False to retain current behavior or observed=True to adopt the future default and silence this warning.\n",
      "  cbsa_risk_props = zip_risk_with_cbsa.groupby(['CBSA', 'Risk_Group'])['adj_count'].sum().reset_index()\n",
      "C:\\Users\\Malcolm\\AppData\\Local\\Temp\\ipykernel_16572\\2510543554.py:3: FutureWarning: The default of observed=False is deprecated and will be changed to True in a future version of pandas. Pass observed=False to retain current behavior or observed=True to adopt the future default and silence this warning.\n",
      "  zip_risk_counts = df_consequence.groupby(['ZIP5', 'Risk_Group']).size().reset_index(name='count')\n",
      "C:\\Users\\Malcolm\\AppData\\Local\\Temp\\ipykernel_16572\\2510543554.py:13: FutureWarning: The default of observed=False is deprecated and will be changed to True in a future version of pandas. Pass observed=False to retain current behavior or observed=True to adopt the future default and silence this warning.\n",
      "  cbsa_risk_props = zip_risk_with_cbsa.groupby(['CBSA', 'Risk_Group'])['adj_count'].sum().reset_index()\n"
     ]
    }
   ],
   "source": [
    "def compute_cbsa_risk_proportion(df_consequence, consequence_type, city_zip_mapping):\n",
    "    # Count number of events in each Risk_Group per ZIP5\n",
    "    zip_risk_counts = df_consequence.groupby(['ZIP5', 'Risk_Group']).size().reset_index(name='count')\n",
    "\n",
    "    # Merge ZIP-level counts with city-ZIP mapping\n",
    "    zip_risk_props = zip_risk_counts.rename(columns={'ZIP5': 'ZIP'})\n",
    "    zip_risk_with_cbsa = pd.merge(zip_risk_props, city_zip_mapping[['ZIP', 'CBSA', 'RES_RATIO']], on='ZIP', how='left')\n",
    "\n",
    "    # Adjust counts using RES_RATIO\n",
    "    zip_risk_with_cbsa['adj_count'] = zip_risk_with_cbsa['count'] * zip_risk_with_cbsa['RES_RATIO'].astype(float)\n",
    "\n",
    "    # Aggregate adjusted count at CBSA-Risk_Group level\n",
    "    cbsa_risk_props = zip_risk_with_cbsa.groupby(['CBSA', 'Risk_Group'])['adj_count'].sum().reset_index()\n",
    "\n",
    "    # Total adjusted count per CBSA\n",
    "    cbsa_total = cbsa_risk_props.groupby('CBSA')['adj_count'].sum().reset_index(name='total_adj_count')\n",
    "\n",
    "    # Merge and compute proportion\n",
    "    df_cbsa_risk = pd.merge(cbsa_risk_props, cbsa_total, on='CBSA')\n",
    "    df_cbsa_risk['risk_proportion'] = df_cbsa_risk['adj_count'] / df_cbsa_risk['total_adj_count']\n",
    "    \n",
    "    # Add consequence type\n",
    "    df_cbsa_risk['consequence_type'] = consequence_type\n",
    "    \n",
    "    return df_cbsa_risk\n",
    "\n",
    "# Apply the function to all three datasets\n",
    "df_fs_result = compute_cbsa_risk_proportion(df_fs_consequence, 'fire_spread', city_zip_mapping)\n",
    "df_inj_result = compute_cbsa_risk_proportion(df_inj_consequence, 'injury', city_zip_mapping)\n",
    "df_loss_result = compute_cbsa_risk_proportion(df_loss_consequence, 'loss', city_zip_mapping)\n",
    "\n",
    "# Combine into one DataFrame\n",
    "df_all_cbsa_risk = pd.concat([df_fs_result, df_inj_result, df_loss_result], ignore_index=True)\n"
   ]
  },
  {
   "cell_type": "code",
   "execution_count": 77,
   "id": "12e062d2",
   "metadata": {},
   "outputs": [],
   "source": [
    "df_all_cbsa_risk.to_csv(socio_raw_data + '/cbsa_consequence_summary.txt', index=False, sep='\\t')"
   ]
  },
  {
   "cell_type": "code",
   "execution_count": null,
   "id": "a1a1ea4b",
   "metadata": {},
   "outputs": [],
   "source": [
    "columns_to_copy=['STATE', 'INCIDENT_KEY', 'ZIP5', 'accident_year', 'accident_month', 'accident_day', 'population_density_list', 'Est_YRB_Built_total_units_list','']\n",
    "df_consequence=df[columns_to_copy].copy()"
   ]
  },
  {
   "cell_type": "code",
   "execution_count": null,
   "id": "1dd56ed0",
   "metadata": {},
   "outputs": [],
   "source": []
  },
  {
   "cell_type": "code",
   "execution_count": 4,
   "id": "fdcd7745",
   "metadata": {},
   "outputs": [],
   "source": [
    "cbsa_pop = pd.read_csv(socio_raw_data + '/csa-est2024-alldata.csv', dtype=str, encoding='latin1')\n"
   ]
  },
  {
   "cell_type": "code",
   "execution_count": 5,
   "id": "b0269530",
   "metadata": {},
   "outputs": [],
   "source": [
    "selected_cbsa_pop= cbsa_pop[cbsa_pop['LSAD']=='Metropolitan Statistical Area'].copy()"
   ]
  },
  {
   "cell_type": "code",
   "execution_count": 21,
   "id": "2e06ed4a",
   "metadata": {},
   "outputs": [],
   "source": [
    "selected_cbsa_pop['CBSA'] = selected_cbsa_pop ['CBSA'].astype('int64')\n",
    "selected_cbsa_pop['POPESTIMATE2024']=selected_cbsa_pop['POPESTIMATE2024'].astype('int64')"
   ]
  },
  {
   "cell_type": "code",
   "execution_count": 22,
   "id": "1e08a10d",
   "metadata": {},
   "outputs": [
    {
     "data": {
      "text/plain": [
       "Index(['CSA', 'CBSA', 'MDIV', 'STCOU', 'NAME', 'LSAD', 'ESTIMATESBASE2020',\n",
       "       'POPESTIMATE2020', 'POPESTIMATE2021', 'POPESTIMATE2022',\n",
       "       'POPESTIMATE2023', 'POPESTIMATE2024', 'NPOPCHG2020', 'NPOPCHG2021',\n",
       "       'NPOPCHG2022', 'NPOPCHG2023', 'NPOPCHG2024', 'BIRTHS2020', 'BIRTHS2021',\n",
       "       'BIRTHS2022', 'BIRTHS2023', 'BIRTHS2024', 'DEATHS2020', 'DEATHS2021',\n",
       "       'DEATHS2022', 'DEATHS2023', 'DEATHS2024', 'NATURALCHG2020',\n",
       "       'NATURALCHG2021', 'NATURALCHG2022', 'NATURALCHG2023', 'NATURALCHG2024',\n",
       "       'INTERNATIONALMIG2020', 'INTERNATIONALMIG2021', 'INTERNATIONALMIG2022',\n",
       "       'INTERNATIONALMIG2023', 'INTERNATIONALMIG2024', 'DOMESTICMIG2020',\n",
       "       'DOMESTICMIG2021', 'DOMESTICMIG2022', 'DOMESTICMIG2023',\n",
       "       'DOMESTICMIG2024', 'NETMIG2020', 'NETMIG2021', 'NETMIG2022',\n",
       "       'NETMIG2023', 'NETMIG2024', 'RESIDUAL2020', 'RESIDUAL2021',\n",
       "       'RESIDUAL2022', 'RESIDUAL2023', 'RESIDUAL2024'],\n",
       "      dtype='object')"
      ]
     },
     "execution_count": 22,
     "metadata": {},
     "output_type": "execute_result"
    }
   ],
   "source": [
    "selected_cbsa_pop.columns"
   ]
  },
  {
   "cell_type": "code",
   "execution_count": 39,
   "id": "b3daac30",
   "metadata": {},
   "outputs": [],
   "source": [
    "fire_consequence=pd.read_csv(socio_raw_data + '/cbsa_consequence_summary.txt', sep='\\t')"
   ]
  },
  {
   "cell_type": "code",
   "execution_count": 40,
   "id": "78ac349e",
   "metadata": {},
   "outputs": [],
   "source": [
    "fire_rate=pd.read_csv(socio_raw_data + '/cbsa_fire_rate_summary.txt', sep='\\t')"
   ]
  },
  {
   "cell_type": "code",
   "execution_count": 42,
   "id": "27d2e342",
   "metadata": {},
   "outputs": [],
   "source": [
    "fire_consequence=fire_consequence.merge(selected_cbsa_pop[['CBSA', 'POPESTIMATE2024','NAME']], on='CBSA', how='left')\n",
    "fire_rate=fire_rate.merge(selected_cbsa_pop[['CBSA', 'POPESTIMATE2024','NAME']], on='CBSA', how='left')"
   ]
  },
  {
   "cell_type": "code",
   "execution_count": 43,
   "id": "ef9b85a0",
   "metadata": {},
   "outputs": [
    {
     "data": {
      "image/png": "[encoded data removed]",
      "text/plain": [
       "<Figure size 800x600 with 1 Axes>"
      ]
     },
     "metadata": {},
     "output_type": "display_data"
    }
   ],
   "source": [
    "fire_rate_selected = fire_rate.sort_values(by='POPESTIMATE2024', ascending=False).head(50)\n",
    "\n",
    "plt.figure(figsize=(8,6))\n",
    "plt.scatter(fire_rate_selected['fire_rate_per_100_000_year'].dropna(),fire_rate_selected['POPESTIMATE2024'].dropna(),  edgecolor='black')\n",
    "plt.xlabel('Fire Rate')\n",
    "plt.ylabel('Count')\n",
    "plt.title('Distribution of Fire Rate')\n",
    "plt.grid(True)\n",
    "plt.show()"
   ]
  },
  {
   "cell_type": "code",
   "execution_count": 44,
   "id": "fb403a0d",
   "metadata": {},
   "outputs": [],
   "source": [
    "fire_consequence_selected=fire_consequence[fire_consequence['Risk_Group']==2].copy()"
   ]
  },
  {
   "cell_type": "code",
   "execution_count": 45,
   "id": "70878732",
   "metadata": {},
   "outputs": [],
   "source": [
    "fire_consequence_selected_fs=fire_consequence_selected[fire_consequence_selected['consequence_type']=='fire_spread'].copy()\n",
    "fire_consequence_selected_inj=fire_consequence_selected[fire_consequence_selected['consequence_type']=='injury'].copy()\n",
    "fire_consequence_selected_loss=fire_consequence_selected[fire_consequence_selected['consequence_type']=='loss'].copy()"
   ]
  },
  {
   "cell_type": "code",
   "execution_count": 46,
   "id": "30628a8f",
   "metadata": {},
   "outputs": [],
   "source": [
    "\n",
    "fire_consequence_selected_fs_50=fire_consequence_selected_fs.sort_values(by='POPESTIMATE2024', ascending=False).head(50)\n",
    "fire_consequence_selected_inj_50=fire_consequence_selected_inj.sort_values(by='POPESTIMATE2024', ascending=False).head(50)\n",
    "fire_consequence_selected_loss_50=fire_consequence_selected_loss.sort_values(by='POPESTIMATE2024', ascending=False).head(50)\n"
   ]
  },
  {
   "cell_type": "code",
   "execution_count": 47,
   "id": "59672436",
   "metadata": {},
   "outputs": [],
   "source": [
    "#save to csv\n",
    "fire_consequence_selected_fs_50.to_csv(socio_raw_data + '/fire_consequence_selected_fs_50.csv', index=False, sep=',')\n",
    "fire_consequence_selected_inj_50.to_csv(socio_raw_data + '/fire_consequence_selected_inj_50.csv', index=False, sep=',')\n",
    "fire_consequence_selected_loss_50.to_csv(socio_raw_data + '/fire_consequence_selected_loss_50.csv', index=False, sep=',')\n",
    "fire_rate_selected.to_csv(socio_raw_data + '/fire_rate_selected_50.csv', index=False, sep=',')"
   ]
  }
 ],
 "metadata": {
  "kernelspec": {
   "display_name": ".venv",
   "language": "python",
   "name": "python3"
  },
  "language_info": {
   "codemirror_mode": {
    "name": "ipython",
    "version": 3
   },
   "file_extension": ".py",
   "mimetype": "text/x-python",
   "name": "python",
   "nbconvert_exporter": "python",
   "pygments_lexer": "ipython3",
   "version": "3.11.1"
  }
 },
 "nbformat": 4,
 "nbformat_minor": 5
}
