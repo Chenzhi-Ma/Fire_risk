{
 "cells": [
  {
   "cell_type": "code",
   "execution_count": null,
   "metadata": {
    "executionInfo": {
     "elapsed": 12,
     "status": "ok",
     "timestamp": 1754970696077,
     "user": {
      "displayName": "Chenzhi Ma",
      "userId": "14313554343012137449"
     },
     "user_tz": 240
    },
    "id": "Iili1lgW4_Yr"
   },
   "outputs": [],
   "source": [
    "import pandas as pd\n",
    "import os\n",
    "import numpy as np\n",
    "from catboost import CatBoostClassifier, Pool\n",
    "from sklearn.model_selection import train_test_split\n",
    "from sklearn.metrics import accuracy_score,confusion_matrix, classification_report\n",
    "import matplotlib.pyplot as plt\n",
    "import seaborn as sns\n",
    "import joblib\n",
    "from sklearn.metrics import make_scorer,f1_score\n",
    "\n",
    "current_path = os.getcwd()\n",
    "root_path = os.path.dirname(current_path)\n",
    "data_path= root_path + '/data/'\n",
    "result_path=root_path+'/results/'\n"
   ]
  },
  {
   "cell_type": "code",
   "execution_count": null,
   "metadata": {
    "executionInfo": {
     "elapsed": 4,
     "status": "ok",
     "timestamp": 1754970704611,
     "user": {
      "displayName": "Chenzhi Ma",
      "userId": "14313554343012137449"
     },
     "user_tz": 240
    },
    "id": "Qdac-iD8E93K"
   },
   "outputs": [],
   "source": [
    "filename='step2_consequence_fire_spread.pkl'"
   ]
  },
  {
   "cell_type": "code",
   "execution_count": null,
   "metadata": {
    "executionInfo": {
     "elapsed": 13378,
     "status": "ok",
     "timestamp": 1754970720147,
     "user": {
      "displayName": "Chenzhi Ma",
      "userId": "14313554343012137449"
     },
     "user_tz": 240
    },
    "id": "Fht0l2B046Dp"
   },
   "outputs": [],
   "source": [
    "df=pd.read_pickle(data_path + filename)"
   ]
  },
  {
   "cell_type": "code",
   "execution_count": null,
   "metadata": {
    "executionInfo": {
     "elapsed": 3400,
     "status": "ok",
     "timestamp": 1754970734486,
     "user": {
      "displayName": "Chenzhi Ma",
      "userId": "14313554343012137449"
     },
     "user_tz": 240
    },
    "id": "OzoGRuiL5nhH"
   },
   "outputs": [],
   "source": [
    "df=df[df['CAUSE_IGN']!='0']\n",
    "df=df[df['HEAT_SOURCE_new']!='6']\n",
    "df=df[df['FACT_IGN1_new']!='7']\n",
    "df=df[df['AREA_ORIG_new']!='8']\n",
    "df=df[df['AREA_ORIG_new']!='9']\n",
    "\n",
    "def remove_outliers_z(df, columns, threshold=3):\n",
    "    for col in columns:\n",
    "        z_scores = (df[col] - df[col].mean()) / df[col].std()\n",
    "        df = df[(z_scores < threshold) & (z_scores > -threshold)]\n",
    "    return df\n",
    "\n",
    "df = df[(df['last_unit_clear_time'] < 600)&(df['TOT_SQ_FT'] < 50000)].reset_index().drop(columns = ['index'])\n"
   ]
  },
  {
   "cell_type": "code",
   "execution_count": null,
   "metadata": {
    "executionInfo": {
     "elapsed": 17897,
     "status": "ok",
     "timestamp": 1754970758618,
     "user": {
      "displayName": "Chenzhi Ma",
      "userId": "14313554343012137449"
     },
     "user_tz": 240
    },
    "id": "sr67B9kqM5tU"
   },
   "outputs": [],
   "source": [
    "cpi_map={'2012':1,\n",
    "         '2013':1.02,\n",
    "         '2014':1.02,\n",
    "         '2015':1.03,\n",
    "         '2016':1.05,\n",
    "         '2017':1.07,\n",
    "         '2018':1.09,\n",
    "         '2019':1.12,\n",
    "         '2020':1.13,\n",
    "         '2021':1.21,\n",
    "         '2022':1.29\n",
    "}\n",
    "df['median_income_list'] = df.apply(lambda row: row['median_income_list'] / cpi_map.get(row['accident_year'], 1)*1.29, axis=1)\n",
    "df['median_rent_list'] = df.apply(lambda row: row['median_rent_list'] / cpi_map.get(row['accident_year'], 1)*1.29, axis=1)\n"
   ]
  },
  {
   "cell_type": "code",
   "execution_count": null,
   "metadata": {
    "executionInfo": {
     "elapsed": 134,
     "status": "ok",
     "timestamp": 1754970766494,
     "user": {
      "displayName": "Chenzhi Ma",
      "userId": "14313554343012137449"
     },
     "user_tz": 240
    },
    "id": "BVjWI29RMklJ"
   },
   "outputs": [],
   "source": [
    "columns_drop=['DET_OPERAT','build_time_1939_and_earlier_list','build_time_1940_to_1979_list','total_population_list','SUP_APP', 'EMS_APP', 'OTH_APP','Pct_GRAPI_35_pct_or_more_list',\n",
    "       'Pct_GRAPI_Less_than_15_pct_list','Pct_EDU_Less_than_9th_grade_list',\n",
    "       'SUP_PER', 'EMS_PER', 'OTH_PER','AID','pop_density']\n",
    "df.drop(columns=columns_drop,inplace=True)"
   ]
  },
  {
   "cell_type": "code",
   "execution_count": null,
   "metadata": {
    "colab": {
     "base_uri": "https://localhost:8080/"
    },
    "executionInfo": {
     "elapsed": 42,
     "status": "ok",
     "timestamp": 1754970780584,
     "user": {
      "displayName": "Chenzhi Ma",
      "userId": "14313554343012137449"
     },
     "user_tz": 240
    },
    "id": "2jbPUwsMmzEL",
    "outputId": "145f9c55-0300-4744-c680-f2267618d973"
   },
   "outputs": [],
   "source": [
    "df.shape"
   ]
  },
  {
   "cell_type": "code",
   "execution_count": null,
   "metadata": {
    "executionInfo": {
     "elapsed": 691,
     "status": "ok",
     "timestamp": 1754970785733,
     "user": {
      "displayName": "Chenzhi Ma",
      "userId": "14313554343012137449"
     },
     "user_tz": 240
    },
    "id": "KZ_aPWfT6tn_"
   },
   "outputs": [],
   "source": [
    "counts = df.groupby(['CBSA Title']).size().reset_index(name='count')\n",
    "\n",
    "# Keep only those with count >= 2\n",
    "valid_pairs = counts[counts['count'] >= 5][['CBSA Title','count']]\n",
    "\n",
    "# Merge to filter the DataFrame\n",
    "df_filtered = df.merge(valid_pairs, on=['CBSA Title'])"
   ]
  },
  {
   "cell_type": "code",
   "execution_count": null,
   "metadata": {
    "colab": {
     "base_uri": "https://localhost:8080/"
    },
    "executionInfo": {
     "elapsed": 411,
     "status": "ok",
     "timestamp": 1754970789283,
     "user": {
      "displayName": "Chenzhi Ma",
      "userId": "14313554343012137449"
     },
     "user_tz": 240
    },
    "id": "bi6XgI5nHUFl",
    "outputId": "9de3cf56-fa66-4d63-91e5-aff445c87d4a"
   },
   "outputs": [],
   "source": [
    "object_columns = df.select_dtypes(include=['object']).columns\n",
    "print(\"Object columns:\")\n",
    "print(object_columns)\n",
    "\n",
    "# Print float columns\n",
    "float_columns = df.select_dtypes(include=['float']).columns\n",
    "print(\"Float columns:\")\n",
    "print(float_columns)"
   ]
  },
  {
   "cell_type": "code",
   "execution_count": null,
   "metadata": {
    "executionInfo": {
     "elapsed": 6189,
     "status": "ok",
     "timestamp": 1754970799299,
     "user": {
      "displayName": "Chenzhi Ma",
      "userId": "14313554343012137449"
     },
     "user_tz": 240
    },
    "id": "5lnrFH795sTN"
   },
   "outputs": [],
   "source": [
    "# Initialize empty train/test holders\n",
    "df=df_filtered.copy()\n",
    "\n",
    "X = df.drop(columns=[ 'last_unit_clear_time',\n",
    "                     'FLAME_SPRD', 'FIRE_SPRD', 'HHS_Region', 'Census_Region',\n",
    "       'Census_Division', 'CBSA Code','count'])\n",
    "\n",
    "y = df['FIRE_SPRD']\n",
    "categorical_features = [col for col in X.columns if X[col].dtype == 'object']\n",
    "\n",
    "\n",
    "\n",
    "X_train_list, X_test_list = [], []\n",
    "y_train_list, y_test_list = [],[]\n",
    "\n",
    "# Loop over each region\n",
    "for region_name, group_df in X.groupby('CBSA Title'):\n",
    "    y_group = y[group_df.index]  # align y with current group\n",
    "\n",
    "    # Stratify on y within the group\n",
    "    X_train_group, X_test_group, y_train_group, y_test_group = train_test_split(\n",
    "        group_df, y_group, test_size=0.3, random_state=2042\n",
    "    )\n",
    "\n",
    "    # Collect the splits\n",
    "    X_train_list.append(X_train_group)\n",
    "    X_test_list.append(X_test_group)\n",
    "    y_train_list.append(y_train_group)\n",
    "    y_test_list.append(y_test_group)\n",
    "\n",
    "# Concatenate all regions\n",
    "X_train = pd.concat(X_train_list)\n",
    "X_test = pd.concat(X_test_list)\n",
    "y_train = pd.concat(y_train_list)\n",
    "y_test = pd.concat(y_test_list)\n",
    "\n",
    "X_train.drop(columns=['CBSA Title'], inplace=True)\n",
    "X_test.drop(columns=['CBSA Title'], inplace=True)\n",
    "\n",
    "\n",
    "categorical_features = [col for col in X_test.columns if X_test[col].dtype == 'object']\n",
    "\n",
    "\n",
    "train_data = Pool(data=X_train, label=y_train, cat_features=categorical_features)\n",
    "test_data = Pool(data=X_test, label=y_test, cat_features=categorical_features)\n"
   ]
  },
  {
   "cell_type": "code",
   "execution_count": null,
   "metadata": {
    "colab": {
     "base_uri": "https://localhost:8080/"
    },
    "executionInfo": {
     "elapsed": 45634,
     "status": "ok",
     "timestamp": 1754970844922,
     "user": {
      "displayName": "Chenzhi Ma",
      "userId": "14313554343012137449"
     },
     "user_tz": 240
    },
    "id": "gOBvKUbb8PRK",
    "outputId": "79f8d32d-fef1-4f3d-c93f-5670201f76f0"
   },
   "outputs": [],
   "source": [
    "model = CatBoostClassifier(iterations=1500, depth=6,\n",
    "                           learning_rate=0.1, l2_leaf_reg=5,\n",
    "                            class_weights=[1, 3, 1, 4],\n",
    "                           task_type='GPU',\n",
    "                           loss_function='MultiClass',\n",
    "                           random_state=2042)\n",
    "model.fit(train_data, verbose=100)\n",
    "# y_pred = model.predict(X_)"
   ]
  },
  {
   "cell_type": "code",
   "execution_count": null,
   "metadata": {
    "colab": {
     "base_uri": "https://localhost:8080/"
    },
    "executionInfo": {
     "elapsed": 3748,
     "status": "ok",
     "timestamp": 1754970848675,
     "user": {
      "displayName": "Chenzhi Ma",
      "userId": "14313554343012137449"
     },
     "user_tz": 240
    },
    "id": "Umrs564q8PRL",
    "outputId": "2e9067b8-cc12-4d51-bf4f-72539407dab7"
   },
   "outputs": [],
   "source": [
    "y_pred = model.predict(X_test)\n",
    "print(classification_report(y_test, y_pred))"
   ]
  },
  {
   "cell_type": "code",
   "execution_count": null,
   "metadata": {
    "colab": {
     "base_uri": "https://localhost:8080/"
    },
    "executionInfo": {
     "elapsed": 9462,
     "status": "ok",
     "timestamp": 1751510434765,
     "user": {
      "displayName": "Chenzhi Ma",
      "userId": "14313554343012137449"
     },
     "user_tz": 240
    },
    "id": "kGnUZSKB7msY",
    "outputId": "8d9aecd5-f1fd-4be2-d1a2-2c1f3d24ca4f"
   },
   "outputs": [],
   "source": [
    "joblib.dump(model, os.path.join(result_path, 'model_cont_fs_cat_best_gpu_city_v1.pkl'))\n",
    "X_test.to_pickle(os.path.join(result_path, 'X_test_fs_cat_best_gpu_city_v1.pkl'))\n",
    "y_test.to_pickle(os.path.join(result_path, 'y_test_fs_cat_best_gpu_city_v1.pkl'))\n",
    "X_train.to_pickle(os.path.join(result_path, 'x_train_fs_cat_best_gpu_city_v1.pkl'))\n",
    "y_train.to_pickle(os.path.join(result_path, 'y_train_fs_cat_best_gpu_city_v1.pkl'))\n",
    "\n",
    "probs = model.predict_proba(X_test)\n",
    "joblib.dump(probs, os.path.join(result_path, 'y_prob_fs_cat_best_gpu_city_v1.pkl'))\n"
   ]
  }
 ],
 "metadata": {
  "accelerator": "GPU",
  "colab": {
   "gpuType": "T4",
   "provenance": []
  },
  "kernelspec": {
   "display_name": "Python 3",
   "name": "python3"
  },
  "language_info": {
   "codemirror_mode": {
    "name": "ipython",
    "version": 3
   },
   "file_extension": ".py",
   "mimetype": "text/x-python",
   "name": "python",
   "nbconvert_exporter": "python",
   "pygments_lexer": "ipython3",
   "version": "3.11.13"
  }
 },
 "nbformat": 4,
 "nbformat_minor": 0
}
